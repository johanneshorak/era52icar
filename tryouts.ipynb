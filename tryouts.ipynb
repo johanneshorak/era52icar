{
 "cells": [
  {
   "cell_type": "code",
   "execution_count": 13,
   "metadata": {},
   "outputs": [],
   "source": [
    "import xarray as xa\n",
    "import numpy as np\n",
    "import pandas as pd\n",
    "import matplotlib as mpl\n",
    "import matplotlib.pyplot as plt"
   ]
  },
  {
   "cell_type": "code",
   "execution_count": 71,
   "metadata": {},
   "outputs": [],
   "source": [
    "atm_ds = xa.open_dataset('./era5_tryouts/20150201-20150202_snz_tryout_atm.nc')\n",
    "sfc_ds = xa.open_dataset('./era5_tryouts/20150201-20150202_snz_tryout_sfc.nc')\n",
    "\n",
    "ml_df = pd.read_csv('./data/model_level.csv',index_col='n')\n",
    "\n",
    "# -\n",
    "# create a dataset that contains the ak and bk coefficients of ERA5\n",
    "# later needed to calculate pressure at each model level from surface pressure\n",
    "# -\n",
    "ab_ds = xa.Dataset(\n",
    "    coords={\n",
    "        'level'        : era5_ds.level,\n",
    "      #  'west_east'   : west_east,\n",
    "      #  'south_north' : south_north\n",
    "    },\n",
    "    data_vars={\n",
    "        'ak'     : (['level'],ml_df.loc[era5_ds.level.values,'a [Pa]'].values),\n",
    "        'bk'     : (['level'],ml_df.loc[era5_ds.level.values,'b'].values),        \n",
    "    }\n",
    ")\n",
    "\n",
    "xmp_ds = xa.open_dataset('../../Documents/work/uibk/downscaling/NZ south island/ERAI/forcings/southern_nz_6a_icar-095_erai_165,176,-48,-40_31-01-2015-to-01-03-2015.nc')"
   ]
  },
  {
   "cell_type": "code",
   "execution_count": 54,
   "metadata": {},
   "outputs": [],
   "source": [
    "# if necessary - download metadata about model levels\n",
    "#ml_df = pd.read_html('https://www.ecmwf.int/en/forecasts/documentation-and-support/137-model-levels')[0]\n",
    "#ml_df.to_csv('./data/model_level.csv',index=False)"
   ]
  },
  {
   "cell_type": "code",
   "execution_count": 72,
   "metadata": {},
   "outputs": [],
   "source": [
    "#test whether surface and atmospheric dataset coordinates match\n",
    "\n",
    "if False in (sfc_ds.time == atm_ds.time).values:\n",
    "    print(' time dimension not matching')\n",
    "    \n",
    "if False in (sfc_ds.longitude == atm_ds.longitude).values:\n",
    "    print(' longitude not matching')\n",
    "    \n",
    "if False in (sfc_ds.latitude == atm_ds.latitude).values:\n",
    "    print(' latitude not matching')\n",
    "    \n",
    "era5_ds = atm_ds.merge(sfc_ds)\n",
    "era5_ds = era5_ds.merge(ab_ds)"
   ]
  },
  {
   "cell_type": "code",
   "execution_count": 45,
   "metadata": {},
   "outputs": [],
   "source": [
    "Nt   = len(era5_ds.time)\n",
    "Nlon = len(era5_ds.longitude)\n",
    "Nlat = len(era5_ds.latitude)\n",
    "Nlvl = len(era5_ds.level)"
   ]
  },
  {
   "cell_type": "code",
   "execution_count": null,
   "metadata": {},
   "outputs": [],
   "source": [
    "# concerning ERA5 levels.\n",
    "\n",
    "# level 0   ... top of the atmosphere (pressure = 0)\n",
    "# level 137 ... bottom of the atmosphere (surface, pressure = pS)\n",
    "# in total: 138 model half levels (interfaces between 'full levels')\n",
    "\n"
   ]
  },
  {
   "cell_type": "code",
   "execution_count": 238,
   "metadata": {},
   "outputs": [
    {
     "name": "stdout",
     "output_type": "stream",
     "text": [
      "   0   30 |  1156.8536     0.0000 |  1037.2012     0.0000 |\n",
      "   1   31 |  1285.6104     0.0000 |  1156.8536     0.0000 |\n",
      "   2   32 |  1423.7701     0.0000 |  1285.6104     0.0000 |\n",
      "   3   33 |  1571.6229     0.0000 |  1423.7701     0.0000 |\n",
      "   4   34 |  1729.4490     0.0000 |  1571.6229     0.0000 |\n",
      "   5   35 |  1897.5193     0.0000 |  1729.4490     0.0000 |\n",
      "   6   36 |  2076.0959     0.0000 |  1897.5193     0.0000 |\n",
      "   7   37 |  2265.4316     0.0000 |  2076.0959     0.0000 |\n",
      "   8   38 |  2465.7705     0.0000 |  2265.4316     0.0000 |\n",
      "   9   39 |  2677.3481     0.0000 |  2465.7705     0.0000 |\n",
      "  10   40 |  2900.3914     0.0000 |  2677.3481     0.0000 |\n",
      "  11   41 |  3135.1194     0.0000 |  2900.3914     0.0000 |\n",
      "  12   42 |  3381.7437     0.0000 |  3135.1194     0.0000 |\n",
      "  13   43 |  3640.4683     0.0000 |  3381.7437     0.0000 |\n",
      "  14   44 |  3911.4905     0.0000 |  3640.4683     0.0000 |\n",
      "  15   45 |  4194.9307     0.0000 |  3911.4905     0.0000 |\n",
      "  16   46 |  4490.8174     0.0000 |  4194.9307     0.0000 |\n",
      "  17   47 |  4799.1494     0.0000 |  4490.8174     0.0000 |\n",
      "  18   48 |  5119.8950     0.0000 |  4799.1494     0.0000 |\n",
      "  19   49 |  5452.9907     0.0000 |  5119.8950     0.0000 |\n",
      "  20   50 |  5798.3447     0.0000 |  5452.9907     0.0000 |\n",
      "  21   51 |  6156.0742     0.0000 |  5798.3447     0.0000 |\n",
      "  22   52 |  6526.9468     0.0000 |  6156.0742     0.0000 |\n",
      "  23   53 |  6911.8706     0.0000 |  6526.9468     0.0000 |\n",
      "  24   54 |  7311.8691     0.0000 |  6911.8706     0.0000 |\n",
      "  25   55 |  7727.4121     0.0000 |  7311.8691     0.0000 |\n",
      "  26   56 |  8159.3540     0.0000 |  7727.4121     0.0000 |\n",
      "  27   57 |  8608.5254     0.0001 |  8159.3540     0.0000 |\n",
      "  28   58 |  9076.4004     0.0001 |  8608.5254     0.0001 |\n",
      "  29   59 |  9562.6826     0.0002 |  9076.4004     0.0001 |\n",
      "  30   60 | 10065.9785     0.0003 |  9562.6826     0.0002 |\n",
      "  31   61 | 10584.6318     0.0006 | 10065.9785     0.0003 |\n",
      "  32   62 | 11116.6621     0.0009 | 10584.6318     0.0006 |\n",
      "  33   63 | 11660.0674     0.0014 | 11116.6621     0.0009 |\n",
      "  34   64 | 12211.5479     0.0020 | 11660.0674     0.0014 |\n",
      "  35   65 | 12766.8730     0.0029 | 12211.5479     0.0020 |\n",
      "  36   66 | 13324.6689     0.0040 | 12766.8730     0.0029 |\n",
      "  37   67 | 13881.3311     0.0054 | 13324.6689     0.0040 |\n",
      "  38   68 | 14432.1396     0.0071 | 13881.3311     0.0054 |\n",
      "  39   69 | 14975.6152     0.0093 | 14432.1396     0.0071 |\n",
      "  40   70 | 15508.2568     0.0118 | 14975.6152     0.0093 |\n",
      "  41   71 | 16026.1152     0.0148 | 15508.2568     0.0118 |\n",
      "  42   72 | 16527.3223     0.0183 | 16026.1152     0.0148 |\n",
      "  43   73 | 17008.7891     0.0224 | 16527.3223     0.0183 |\n",
      "  44   74 | 17467.6133     0.0270 | 17008.7891     0.0224 |\n",
      "  45   75 | 17901.6211     0.0322 | 17467.6133     0.0270 |\n",
      "  46   76 | 18308.4336     0.0380 | 17901.6211     0.0322 |\n",
      "  47   77 | 18685.7188     0.0445 | 18308.4336     0.0380 |\n",
      "  48   78 | 19031.2891     0.0518 | 18685.7188     0.0445 |\n",
      "  49   79 | 19343.5117     0.0597 | 19031.2891     0.0518 |\n",
      "  50   80 | 19620.0430     0.0684 | 19343.5117     0.0597 |\n",
      "  51   81 | 19859.3906     0.0780 | 19620.0430     0.0684 |\n",
      "  52   82 | 20059.9316     0.0883 | 19859.3906     0.0780 |\n",
      "  53   83 | 20219.6641     0.0995 | 20059.9316     0.0883 |\n",
      "  54   84 | 20337.8633     0.1115 | 20219.6641     0.0995 |\n",
      "  55   85 | 20412.3086     0.1244 | 20337.8633     0.1115 |\n",
      "  56   86 | 20442.0781     0.1383 | 20412.3086     0.1244 |\n",
      "  57   87 | 20425.7188     0.1531 | 20442.0781     0.1383 |\n",
      "  58   88 | 20361.8164     0.1689 | 20425.7188     0.1531 |\n",
      "  59   89 | 20249.5117     0.1857 | 20361.8164     0.1689 |\n",
      "  60   90 | 20087.0859     0.2035 | 20249.5117     0.1857 |\n",
      "  61   91 | 19874.0254     0.2223 | 20087.0859     0.2035 |\n",
      "  62   92 | 19608.5723     0.2422 | 19874.0254     0.2223 |\n",
      "  63   93 | 19290.2266     0.2632 | 19608.5723     0.2422 |\n",
      "  64   94 | 18917.4609     0.2854 | 19290.2266     0.2632 |\n",
      "  65   95 | 18489.7070     0.3086 | 18917.4609     0.2854 |\n",
      "  66   96 | 18006.9258     0.3329 | 18489.7070     0.3086 |\n",
      "  67   97 | 17471.8398     0.3583 | 18006.9258     0.3329 |\n",
      "  68   98 | 16888.6875     0.3844 | 17471.8398     0.3583 |\n",
      "  69   99 | 16262.0469     0.4111 | 16888.6875     0.3844 |\n",
      "  70  100 | 15596.6953     0.4384 | 16262.0469     0.4111 |\n",
      "  71  101 | 14898.4531     0.4660 | 15596.6953     0.4384 |\n",
      "  72  102 | 14173.3242     0.4938 | 14898.4531     0.4660 |\n",
      "  73  103 | 13427.7695     0.5216 | 14173.3242     0.4938 |\n",
      "  74  104 | 12668.2578     0.5493 | 13427.7695     0.5216 |\n",
      "  75  105 | 11901.3398     0.5767 | 12668.2578     0.5493 |\n",
      "  76  106 | 11133.3047     0.6036 | 11901.3398     0.5767 |\n",
      "  77  107 | 10370.1758     0.6300 | 11133.3047     0.6036 |\n",
      "  78  108 |  9617.5156     0.6557 | 10370.1758     0.6300 |\n",
      "  79  109 |  8880.4531     0.6806 |  9617.5156     0.6557 |\n",
      "  80  110 |  8163.3750     0.7047 |  8880.4531     0.6806 |\n",
      "  81  111 |  7470.3438     0.7277 |  8163.3750     0.7047 |\n",
      "  82  112 |  6804.4219     0.7498 |  7470.3438     0.7277 |\n",
      "  83  113 |  6168.5312     0.7708 |  6804.4219     0.7498 |\n",
      "  84  114 |  5564.3828     0.7907 |  6168.5312     0.7708 |\n",
      "  85  115 |  4993.7969     0.8095 |  5564.3828     0.7907 |\n",
      "  86  116 |  4457.3750     0.8273 |  4993.7969     0.8095 |\n",
      "  87  117 |  3955.9609     0.8439 |  4457.3750     0.8273 |\n",
      "  88  118 |  3489.2344     0.8594 |  3955.9609     0.8439 |\n",
      "  89  119 |  3057.2656     0.8739 |  3489.2344     0.8594 |\n",
      "  90  120 |  2659.1406     0.8874 |  3057.2656     0.8739 |\n",
      "  91  121 |  2294.2422     0.8999 |  2659.1406     0.8874 |\n",
      "  92  122 |  1961.5000     0.9114 |  2294.2422     0.8999 |\n",
      "  93  123 |  1659.4766     0.9221 |  1961.5000     0.9114 |\n",
      "  94  124 |  1387.5469     0.9319 |  1659.4766     0.9221 |\n",
      "  95  125 |  1143.2500     0.9409 |  1387.5469     0.9319 |\n",
      "  96  126 |   926.5078     0.9491 |  1143.2500     0.9409 |\n",
      "  97  127 |   734.9922     0.9566 |   926.5078     0.9491 |\n",
      "  98  128 |   568.0625     0.9634 |   734.9922     0.9566 |\n",
      "  99  129 |   424.4141     0.9695 |   568.0625     0.9634 |\n",
      " 100  130 |   302.4766     0.9751 |   424.4141     0.9695 |\n",
      " 101  131 |   202.4844     0.9801 |   302.4766     0.9751 |\n",
      " 102  132 |   122.1016     0.9845 |   202.4844     0.9801 |\n",
      " 103  133 |    62.7812     0.9885 |   122.1016     0.9845 |\n",
      " 104  134 |    22.8359     0.9920 |    62.7812     0.9885 |\n",
      " 105  135 |     3.7578     0.9950 |    22.8359     0.9920 |\n",
      " 106  136 |     0.0000     0.9976 |     3.7578     0.9950 |\n",
      " 107  137 |     0.0000     1.0000 |     0.0000     0.9976 |\n"
     ]
    }
   ],
   "source": [
    "# first - calculate the pressure at every model level\n",
    "# set pressure at level 0 (= top of the atmosphere) to nan. this shouldn't be a full level anymore\n",
    "# and therefor we can't assign a pressure to it.\n",
    "\n",
    "p           = np.zeros(Nt*Nlvl*Nlon*Nlat).reshape(Nt,Nlvl,Nlat,Nlon)\n",
    "\n",
    "for n in range(0,Nlvl):\n",
    "    lvl  = era5_ds.level.values[n]\n",
    "    ak0  = era5_ds.ak.values[n]        # coef. for half level below (higher pressure)\n",
    "    bk0  = era5_ds.bk.values[n]\n",
    "    \n",
    "    if n > 0:\n",
    "        ak1  = era5_ds.ak.values[n-1]  # coef. for half level above (lower pressure)\n",
    "        bk1  = era5_ds.bk.values[n-1]\n",
    "    else:\n",
    "        # for n = 0 we have to look up the ak and bk values from\n",
    "        # the ml_df dataframe since we did not store those in the xarray\n",
    "        # dataset. we do this only if lvl > 0, otherwise it doesn't matter\n",
    "        # since the pressure at full-lvl = 0 cannot be specified anyways\n",
    "        if lvl > 0:\n",
    "            ak1  = ml_df.loc[lvl-1,'a [Pa]']\n",
    "            bk1  = ml_df.loc[lvl-1,'b']\n",
    "        \n",
    "    \n",
    "    ps  = era5_ds.sp[:].values\n",
    "    print('{:4n} {:4n} | {:10.4f} {:10.4f} | {:10.4f} {:10.4f} |'.format(n,lvl,ak0,bk0,ak1,bk1))\n",
    "    if lvl == 0:\n",
    "        p[:,n] = ps*np.nan\n",
    "    else:\n",
    "        p[:,n] = 0.5*((ak0+bk0*ps)+(ak1+bk1*ps))\n",
    "    \n",
    "era5_ds['p'] = (['time','level','latitude','longitude'],p)"
   ]
  },
  {
   "cell_type": "code",
   "execution_count": 7,
   "metadata": {},
   "outputs": [
    {
     "data": {
      "text/plain": [
       "(15, 19)"
      ]
     },
     "execution_count": 7,
     "metadata": {},
     "output_type": "execute_result"
    }
   ],
   "source": [
    "xmp_ds.XLONG[0].shape"
   ]
  },
  {
   "cell_type": "code",
   "execution_count": 201,
   "metadata": {},
   "outputs": [],
   "source": [
    "# prepare the arrays\n",
    "west_east = range(0,Nlon)\n",
    "south_north = range(0,Nlon)\n",
    "bottom_top  = (137-era5_ds.level)[::-1]                    # reverse order, 137 is lowest level in ERA5, is here now 0\n",
    "\n",
    "xlong       = np.zeros(Nt*Nlon*Nlat).reshape(Nt,Nlat,Nlon)\n",
    "xlat        = np.zeros(Nt*Nlon*Nlat).reshape(Nt,Nlat,Nlon)\n",
    "Time        = era5_ds.time.values\n",
    "\n",
    "U           = np.zeros(Nt*Nlvl*Nlon*Nlat).reshape(Nt,Nlvl,Nlat,Nlon)\n",
    "V           = np.zeros(Nt*Nlvl*Nlon*Nlat).reshape(Nt,Nlvl,Nlat,Nlon)\n",
    "QVAPOR      = np.zeros(Nt*Nlvl*Nlon*Nlat).reshape(Nt,Nlvl,Nlat,Nlon)\n",
    "QCLOUD      = np.zeros(Nt*Nlvl*Nlon*Nlat).reshape(Nt,Nlvl,Nlat,Nlon)\n",
    "QICE        = np.zeros(Nt*Nlvl*Nlon*Nlat).reshape(Nt,Nlvl,Nlat,Nlon)\n",
    "\n",
    "# set values\n",
    "U          = era5_ds.u[:,::-1,::-1,:]\n",
    "V          = era5_ds.v[:,::-1,::-1,:]\n",
    "P          = era5_ds.p[:,::-1,::-1,:]\n",
    "QVAPOR     = era5_ds.q[:,::-1,::-1,:]\n",
    "QCLOUD     = era5_ds.clwc[:,::-1,::-1,:]\n",
    "QICE       = era5_ds.ciwc[:,::-1,::-1,:]\n",
    "\n",
    "\n",
    "xlong[:,:] = era5_ds.longitude\n",
    "\n",
    "for ny in range(Nlat):\n",
    "    xlat[:,ny,:] = era5_ds.latitude[::-1].values[ny]"
   ]
  },
  {
   "cell_type": "code",
   "execution_count": 120,
   "metadata": {},
   "outputs": [],
   "source": [
    "frc_ds = xa.Dataset(\n",
    "    coords={\n",
    "        'Time'        : Time,\n",
    "      #  'west_east'   : west_east,\n",
    "      #  'south_north' : south_north\n",
    "    },\n",
    "    data_vars={\n",
    "        'XLONG'    : (['Time','south_north','west_east'],xlong),\n",
    "        'XLAT'     : (['Time','south_north','west_east'],xlat),\n",
    "        'U'        : (['Time','bottom_top','south_north','west_east'],U),\n",
    "        'V'        : (['Time','bottom_top','south_north','west_east'],V),\n",
    "        'P'        : (['Time','bottom_top','south_north','west_east'],P),\n",
    "        'QVAPOR'   : (['Time','bottom_top','south_north','west_east'],QVAPOR),\n",
    "        'QCLOUD'   : (['Time','bottom_top','south_north','west_east'],QCLOUD),\n",
    "        'QICE'     : (['Time','bottom_top','south_north','west_east'],QICE)\n",
    "        \n",
    "    }\n",
    ")"
   ]
  },
  {
   "cell_type": "code",
   "execution_count": 121,
   "metadata": {},
   "outputs": [
    {
     "data": {
      "text/plain": [
       "<matplotlib.collections.QuadMesh at 0x7fa5eef9ffd0>"
      ]
     },
     "execution_count": 121,
     "metadata": {},
     "output_type": "execute_result"
    },
    {
     "data": {
      "image/png": "[encoded data removed]",
      "text/plain": [
       "<Figure size 432x288 with 2 Axes>"
      ]
     },
     "metadata": {},
     "output_type": "display_data"
    }
   ],
   "source": [
    "frc_ds.QVAPOR[0,0].plot()"
   ]
  },
  {
   "cell_type": "code",
   "execution_count": 203,
   "metadata": {},
   "outputs": [
    {
     "data": {
      "text/plain": [
       "[<matplotlib.lines.Line2D at 0x7fa5ee864cf8>]"
      ]
     },
     "execution_count": 203,
     "metadata": {},
     "output_type": "execute_result"
    },
    {
     "data": {
      "image/png": "[encoded data removed]",
      "text/plain": [
       "<Figure size 900x600 with 1 Axes>"
      ]
     },
     "metadata": {},
     "output_type": "display_data"
    }
   ],
   "source": [
    "f,ax = plt.subplots(1,1,dpi=150)\n",
    "era5_ds['t'][0,:,0,0].plot(marker='o',markersize=2)"
   ]
  },
  {
   "cell_type": "code",
   "execution_count": 123,
   "metadata": {},
   "outputs": [
    {
     "data": {
      "text/plain": [
       "[]"
      ]
     },
     "execution_count": 123,
     "metadata": {},
     "output_type": "execute_result"
    },
    {
     "data": {
      "image/png": "[encoded data removed]",
      "text/plain": [
       "<Figure size 432x288 with 1 Axes>"
      ]
     },
     "metadata": {},
     "output_type": "display_data"
    }
   ],
   "source": [
    "plt.plot(era5_ds.u[0,:,-1,0])\n",
    "plt.plot(frc_ds.U[0,:,0,0])\n",
    "plt.plot()"
   ]
  },
  {
   "cell_type": "code",
   "execution_count": 51,
   "metadata": {},
   "outputs": [
    {
     "data": {
      "text/plain": [
       "<matplotlib.collections.QuadMesh at 0x7fa5e3a34a58>"
      ]
     },
     "execution_count": 51,
     "metadata": {},
     "output_type": "execute_result"
    },
    {
     "data": {
      "image/png": "[encoded data removed]",
      "text/plain": [
       "<Figure size 432x288 with 2 Axes>"
      ]
     },
     "metadata": {},
     "output_type": "display_data"
    }
   ],
   "source": [
    "era5_ds.z[0].plot()"
   ]
  },
  {
   "cell_type": "code",
   "execution_count": 70,
   "metadata": {},
   "outputs": [
    {
     "data": {
      "text/plain": [
       "[<matplotlib.lines.Line2D at 0x7fa5e387eba8>]"
      ]
     },
     "execution_count": 70,
     "metadata": {},
     "output_type": "execute_result"
    },
    {
     "data": {
      "image/png": "[encoded data removed]",
      "text/plain": [
       "<Figure size 432x288 with 1 Axes>"
      ]
     },
     "metadata": {},
     "output_type": "display_data"
    }
   ],
   "source": [
    "ab_ds.ak.plot()\n",
    "ab_ds.bk.plot()"
   ]
  },
  {
   "cell_type": "code",
   "execution_count": 263,
   "metadata": {},
   "outputs": [
    {
     "data": {
      "text/plain": [
       "Data variables:\n",
       "    XLONG    (Time, south_north, west_east) float32 ...\n",
       "    XLAT     (Time, south_north, west_east) float32 ...\n",
       "    U        (Time, bottom_top, south_north, west_east) float32 ...\n",
       "    V        (Time, bottom_top, south_north, west_east) float32 ...\n",
       "    PH       (Time, bottom_top, south_north, west_east) float32 ...\n",
       "    T        (Time, bottom_top, south_north, west_east) float32 ...\n",
       "    PB       (Time, bottom_top, south_north, west_east) float32 ...\n",
       "    P        (Time, bottom_top, south_north, west_east) float32 101191.06 ...\n",
       "    HGT      (Time, south_north, west_east) float32 ...\n",
       "    PHB      (Time, bottom_top, south_north, west_east) float32 ...\n",
       "    QVAPOR   (Time, bottom_top, south_north, west_east) float32 ...\n",
       "    QCLOUD   (Time, bottom_top, south_north, west_east) float32 ...\n",
       "    QICE     (Time, bottom_top, south_north, west_east) float32 ...\n",
       "    TSK      (Time, bottom_top, south_north, west_east) float32 ...\n",
       "    sp       (Time, south_north, west_east) float32 ..."
      ]
     },
     "execution_count": 263,
     "metadata": {},
     "output_type": "execute_result"
    }
   ],
   "source": [
    "xmp_ds.data_vars"
   ]
  },
  {
   "cell_type": "code",
   "execution_count": 264,
   "metadata": {},
   "outputs": [
    {
     "data": {
      "text/plain": [
       "<matplotlib.collections.QuadMesh at 0x7fa5edf86278>"
      ]
     },
     "execution_count": 264,
     "metadata": {},
     "output_type": "execute_result"
    },
    {
     "data": {
      "image/png": "[encoded data removed]",
      "text/plain": [
       "<Figure size 432x288 with 2 Axes>"
      ]
     },
     "metadata": {},
     "output_type": "display_data"
    }
   ],
   "source": [
    "xmp_ds.HGT[0,:].plot()"
   ]
  },
  {
   "cell_type": "code",
   "execution_count": 265,
   "metadata": {},
   "outputs": [
    {
     "data": {
      "text/plain": [
       "<xarray.Dataset>\n",
       "Dimensions:  (Time: 124, bottom_top: 60, south_north: 15, west_east: 19)\n",
       "Coordinates:\n",
       "  * Time     (Time) datetime64[ns] 2015-01-31 2015-01-31T06:00:00 ...\n",
       "Dimensions without coordinates: bottom_top, south_north, west_east\n",
       "Data variables:\n",
       "    XLONG    (Time, south_north, west_east) float32 ...\n",
       "    XLAT     (Time, south_north, west_east) float32 ...\n",
       "    U        (Time, bottom_top, south_north, west_east) float32 ...\n",
       "    V        (Time, bottom_top, south_north, west_east) float32 ...\n",
       "    PH       (Time, bottom_top, south_north, west_east) float32 ...\n",
       "    T        (Time, bottom_top, south_north, west_east) float32 ...\n",
       "    PB       (Time, bottom_top, south_north, west_east) float32 ...\n",
       "    P        (Time, bottom_top, south_north, west_east) float32 101191.06 ...\n",
       "    HGT      (Time, south_north, west_east) float32 ...\n",
       "    PHB      (Time, bottom_top, south_north, west_east) float32 ...\n",
       "    QVAPOR   (Time, bottom_top, south_north, west_east) float32 ...\n",
       "    QCLOUD   (Time, bottom_top, south_north, west_east) float32 ...\n",
       "    QICE     (Time, bottom_top, south_north, west_east) float32 ...\n",
       "    TSK      (Time, bottom_top, south_north, west_east) float32 ...\n",
       "    sp       (Time, south_north, west_east) float32 ..."
      ]
     },
     "execution_count": 265,
     "metadata": {},
     "output_type": "execute_result"
    }
   ],
   "source": [
    "xmp_ds"
   ]
  },
  {
   "cell_type": "code",
   "execution_count": 267,
   "metadata": {},
   "outputs": [
    {
     "data": {
      "text/plain": [
       "<xarray.DataArray 'q' (time: 48, level: 108, latitude: 37, longitude: 45)>\n",
       "[8631360 values with dtype=float32]\n",
       "Coordinates:\n",
       "  * longitude  (longitude) float32 165.0 165.25 165.5 165.75 166.0 166.25 ...\n",
       "  * latitude   (latitude) float32 -39.0 -39.25 -39.5 -39.75 -40.0 -40.25 ...\n",
       "  * level      (level) int32 30 31 32 33 34 35 36 37 38 39 40 41 42 43 44 45 ...\n",
       "  * time       (time) datetime64[ns] 2015-02-01 2015-02-01T01:00:00 ...\n",
       "Attributes:\n",
       "    units:          kg kg**-1\n",
       "    long_name:      Specific humidity\n",
       "    standard_name:  specific_humidity"
      ]
     },
     "execution_count": 267,
     "metadata": {},
     "output_type": "execute_result"
    }
   ],
   "source": [
    "era5_ds.q"
   ]
  },
  {
   "cell_type": "markdown",
   "metadata": {},
   "source": [
    "# calculating geopotential at each model level\n",
    "\n",
    "https://www.ecmwf.int/sites/default/files/elibrary/2015/9210-part-iii-dynamics-and-numerical-procedures.pdf\n",
    "\n",
    "also saved to literature/ifs"
   ]
  },
  {
   "cell_type": "code",
   "execution_count": 281,
   "metadata": {},
   "outputs": [],
   "source": [
    "# --\n",
    "# some gas constants\n",
    "# source: http://glossary.ametsoc.org/wiki/Gas_constant\n",
    "# --\n",
    "\n",
    "R_D = 287.06    # dry air,     J K**-1 kg**-1\n",
    "R_V = 461       # water vapor, J K**-1 kg**-1\n",
    "\n",
    "lvlmax = 137\n",
    "\n",
    "# ----------------------------------------------\n",
    "# calculates geopotential at half layer k+1/2\n",
    "# ----------------------------------------------\n",
    "# (k+1/2 lies below full layer k)\n",
    "# \n",
    "# level 0.5 corresponds to the top of the atmosphere\n",
    "# level 137.5 to the surface\n",
    "# full levels range from 1 to 137\n",
    "#\n",
    "# k      full level below which to calculate phi_(k+1/2) (half layer k+1/2)\n",
    "# phis   geopotential at surface\n",
    "# ps     surface pressure\n",
    "# \n",
    "def phikhalf(phis,k):\n",
    "    \n",
    "    s = 0\n",
    "    \n",
    "    sp = era5_ds.sp.values\n",
    "    \n",
    "    for j in range(k+1,lvlmax):    \n",
    "        au = ml_df.loc[j,'a [Pa]']\n",
    "        bu = ml_df.loc[j,'b']\n",
    "\n",
    "        al = ml_df.loc[j+1,'a [Pa]']\n",
    "        bl = ml_df.loc[j+1,'b']\n",
    "\n",
    "        pu = au+bu*sp\n",
    "        pl = al+bl*sp\n",
    "        \n",
    "        t  = era5_ds.sel(level=j)['t']\n",
    "        q  = era5_ds.sel(level=j)['q']\n",
    "        tv = t*(1+(R_V/R_D-1.0)*q)       \n",
    "        \n",
    "        s+=R_D*tv*np.log(pl/pu)\n",
    "        \n",
    "    return s"
   ]
  },
  {
   "cell_type": "code",
   "execution_count": 282,
   "metadata": {},
   "outputs": [
    {
     "data": {
      "text/plain": [
       "<xarray.DataArray (time: 48, latitude: 37, longitude: 45)>\n",
       "array([[[230927.28, 230916.73, ..., 223955.42, 223277.66],\n",
       "        [230945.47, 230940.64, ..., 220855.12, 220769.78],\n",
       "        ...,\n",
       "        [231673.98, 231677.6 , ..., 231615.33, 231606.55],\n",
       "        [231685.66, 231681.81, ..., 231630.36, 231619.77]],\n",
       "\n",
       "       [[230926.72, 230914.7 , ..., 223895.75, 223222.22],\n",
       "        [230935.77, 230927.97, ..., 220797.86, 220716.67],\n",
       "        ...,\n",
       "        [231693.06, 231700.52, ..., 231629.19, 231623.25],\n",
       "        [231706.92, 231703.42, ..., 231646.11, 231639.62]],\n",
       "\n",
       "       ...,\n",
       "\n",
       "       [[231062.12, 231055.83, ..., 224171.03, 223510.16],\n",
       "        [231076.78, 231072.69, ..., 221050.75, 220972.1 ],\n",
       "        ...,\n",
       "        [231461.27, 231467.5 , ..., 231646.19, 231638.69],\n",
       "        [231464.7 , 231463.62, ..., 231648.94, 231640.58]],\n",
       "\n",
       "       [[231038.86, 231033.02, ..., 224117.6 , 223453.75],\n",
       "        [231044.47, 231041.06, ..., 220977.11, 220894.27],\n",
       "        ...,\n",
       "        [231520.02, 231523.08, ..., 231603.23, 231595.27],\n",
       "        [231534.12, 231530.27, ..., 231615.92, 231608.3 ]]], dtype=float32)\n",
       "Coordinates:\n",
       "  * longitude  (longitude) float32 165.0 165.25 165.5 165.75 166.0 166.25 ...\n",
       "  * latitude   (latitude) float32 -39.0 -39.25 -39.5 -39.75 -40.0 -40.25 ...\n",
       "    level      int32 41\n",
       "  * time       (time) datetime64[ns] 2015-02-01 2015-02-01T01:00:00 ..."
      ]
     },
     "execution_count": 282,
     "metadata": {},
     "output_type": "execute_result"
    }
   ],
   "source": [
    "phikhalf(0,40)"
   ]
  },
  {
   "cell_type": "code",
   "execution_count": 276,
   "metadata": {},
   "outputs": [
    {
     "data": {
      "text/plain": [
       "<xarray.DataArray 'q' (time: 48, latitude: 37, longitude: 45)>\n",
       "array([[[3.016088e-06, 3.016088e-06, ..., 3.016088e-06, 3.016088e-06],\n",
       "        [3.016088e-06, 3.016088e-06, ..., 3.016088e-06, 3.016088e-06],\n",
       "        ...,\n",
       "        [3.016088e-06, 3.016088e-06, ..., 3.016088e-06, 3.016088e-06],\n",
       "        [3.016088e-06, 3.016088e-06, ..., 3.016088e-06, 3.016088e-06]],\n",
       "\n",
       "       [[3.016088e-06, 3.016088e-06, ..., 3.016088e-06, 3.016088e-06],\n",
       "        [3.016088e-06, 3.016088e-06, ..., 3.016088e-06, 3.016088e-06],\n",
       "        ...,\n",
       "        [3.016088e-06, 3.016088e-06, ..., 3.016088e-06, 3.016088e-06],\n",
       "        [3.016088e-06, 3.016088e-06, ..., 3.016088e-06, 3.016088e-06]],\n",
       "\n",
       "       ...,\n",
       "\n",
       "       [[2.784654e-06, 2.784654e-06, ..., 2.784654e-06, 2.784654e-06],\n",
       "        [2.784654e-06, 2.784654e-06, ..., 2.784654e-06, 2.784654e-06],\n",
       "        ...,\n",
       "        [3.016088e-06, 3.016088e-06, ..., 3.016088e-06, 3.016088e-06],\n",
       "        [3.016088e-06, 3.016088e-06, ..., 3.016088e-06, 3.016088e-06]],\n",
       "\n",
       "       [[2.784654e-06, 2.784654e-06, ..., 2.784654e-06, 2.784654e-06],\n",
       "        [2.784654e-06, 2.784654e-06, ..., 2.784654e-06, 2.784654e-06],\n",
       "        ...,\n",
       "        [3.016088e-06, 3.016088e-06, ..., 3.016088e-06, 3.016088e-06],\n",
       "        [3.016088e-06, 3.016088e-06, ..., 3.016088e-06, 3.016088e-06]]],\n",
       "      dtype=float32)\n",
       "Coordinates:\n",
       "  * longitude  (longitude) float32 165.0 165.25 165.5 165.75 166.0 166.25 ...\n",
       "  * latitude   (latitude) float32 -39.0 -39.25 -39.5 -39.75 -40.0 -40.25 ...\n",
       "    level      int32 37\n",
       "  * time       (time) datetime64[ns] 2015-02-01 2015-02-01T01:00:00 ...\n",
       "Attributes:\n",
       "    units:          kg kg**-1\n",
       "    long_name:      Specific humidity\n",
       "    standard_name:  specific_humidity"
      ]
     },
     "execution_count": 276,
     "metadata": {},
     "output_type": "execute_result"
    }
   ],
   "source": [
    "era5_ds.sel(level=37)['q']"
   ]
  },
  {
   "cell_type": "code",
   "execution_count": 272,
   "metadata": {},
   "outputs": [
    {
     "data": {
      "text/plain": [
       "<xarray.DataArray 'sp' (time: 48, latitude: 37, longitude: 45)>\n",
       "array([[[100574.88 , 100592.85 , ...,  93256.76 ,  92442.76 ],\n",
       "        [100536.77 , 100562.91 , ...,  89657.72 ,  89600.82 ],\n",
       "        ...,\n",
       "        [100298.83 , 100326.875, ..., 101057.84 , 101083.7  ],\n",
       "        [100314.89 , 100329.87 , ..., 101058.93 , 101082.89 ]],\n",
       "\n",
       "       [[100526.42 , 100544.39 , ...,  93180.53 ,  92365.44 ],\n",
       "        [100492.4  , 100516.35 , ...,  89584.49 ,  89527.32 ],\n",
       "        ...,\n",
       "        [100283.31 , 100311.35 , ..., 101012.375, 101033.34 ],\n",
       "        [100299.375, 100309.45 , ..., 101007.48 , 101027.35 ]],\n",
       "\n",
       "       ...,\n",
       "\n",
       "       [[101318.1  , 101300.14 , ...,  92470.25 ,  91610.24 ],\n",
       "        [101287.07 , 101270.19 , ...,  88875.3  ,  88721.21 ],\n",
       "        ...,\n",
       "        [100392.21 , 100383.23 , ...,  99041.08 ,  98987.17 ],\n",
       "        [100341.305, 100323.06 , ...,  98999.15 ,  98941.164]],\n",
       "\n",
       "       [[101303.13 , 101282.17 , ...,  92438.125,  91572.125],\n",
       "        [101277.   , 101257.94 , ...,  88849.164,  88692.08 ],\n",
       "        ...,\n",
       "        [100399.016, 100391.94 , ...,  99121.93 ,  99066.94 ],\n",
       "        [100354.09 , 100338.03 , ...,  99087.086,  99029.09 ]]], dtype=float32)\n",
       "Coordinates:\n",
       "  * longitude  (longitude) float32 165.0 165.25 165.5 165.75 166.0 166.25 ...\n",
       "  * latitude   (latitude) float32 -39.0 -39.25 -39.5 -39.75 -40.0 -40.25 ...\n",
       "  * time       (time) datetime64[ns] 2015-02-01 2015-02-01T01:00:00 ...\n",
       "Attributes:\n",
       "    units:          Pa\n",
       "    long_name:      Surface pressure\n",
       "    standard_name:  surface_air_pressure"
      ]
     },
     "execution_count": 272,
     "metadata": {},
     "output_type": "execute_result"
    }
   ],
   "source": [
    "era5_ds.sp[:]"
   ]
  },
  {
   "cell_type": "code",
   "execution_count": null,
   "metadata": {},
   "outputs": [],
   "source": []
  }
 ],
 "metadata": {
  "kernelspec": {
   "display_name": "Python 3",
   "language": "python",
   "name": "python3"
  },
  "language_info": {
   "codemirror_mode": {
    "name": "ipython",
    "version": 3
   },
   "file_extension": ".py",
   "mimetype": "text/x-python",
   "name": "python",
   "nbconvert_exporter": "python",
   "pygments_lexer": "ipython3",
   "version": "3.6.6"
  }
 },
 "nbformat": 4,
 "nbformat_minor": 2
}
